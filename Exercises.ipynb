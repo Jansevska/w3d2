{
 "cells": [
  {
   "cell_type": "markdown",
   "metadata": {},
   "source": [
    "#### Exercise 1 - Class Inheritance"
   ]
  },
  {
   "cell_type": "markdown",
   "metadata": {},
   "source": [
    "Create an Employee class that sets an employee's first name, last name, job title, salary, and email. The Employee class should have a class attribute for the raise amount set to 5% (1.05). Create a method that will apply the raise to an employee's salary."
   ]
  },
  {
   "cell_type": "code",
   "execution_count": 10,
   "metadata": {},
   "outputs": [
    {
     "ename": "SyntaxError",
     "evalue": "expected '(' (2098254407.py, line 11)",
     "output_type": "error",
     "traceback": [
      "\u001b[1;36m  Cell \u001b[1;32mIn[10], line 11\u001b[1;36m\u001b[0m\n\u001b[1;33m    def __str__\u001b[0m\n\u001b[1;37m               ^\u001b[0m\n\u001b[1;31mSyntaxError\u001b[0m\u001b[1;31m:\u001b[0m expected '('\n"
     ]
    }
   ],
   "source": [
    "# Write the Employee Parent Class Here\n",
    "\n",
    "class Employee:\n",
    "    def __init__(self, first, last, job_title, salary, email):\n",
    "        self.first_name = first.title()\n",
    "        self.last_name = last.title()\n",
    "        self.job_title = title\n",
    "        self.salary = salary\n",
    "        self.email = first.lower() + last.lower() + '@coolcompany.com'\n",
    "        \n",
    "    def __str__\n",
    "    \n",
    "    def __repr__\n",
    "        \n",
    "    def get_pay_stub(self):\n",
    "        amount = round(self.salary/24, 2)\n",
    "        print(f\"\"\"\n",
    "        Pay to the Order of: {self.first_name} {self.last_name}\n",
    "        Amount: ${amount}\n",
    "        \"\"\")\n",
    "        \n",
    "    def change_last_name(self, new_last_name):\n",
    "        self.last_name = new_last_name.title()\n",
    "        self.email = self.first_name.lower() + new_last_name[0].lower() + '@coolcompany.com'\n",
    "        \n",
    "    def apply_raise(self):\n",
    "        self.salary = round(self.salary * 1.05)\n",
    "        print(f\"Congrats {self.first_name}, you have received a raise of 5% and your new salary is ${self.salary}\")\n",
    "        \n",
    "\n",
    "class Sales(Employee):\n",
    "    def __init__(self, first, last, job_title, salary, email):\n",
    "        super().__init__(first, last, job_title, salary, email, phone)\n",
    "            self.phone = phone\n",
    "            \n",
    "    def send_fwup_email(self):\n",
    "        name_input = input(\"Please enter your name: \")\n",
    "        customer_name = name_input\n",
    "        print(f\"\"\"Dear {name_input}, Thank you for your interest in our product. \n",
    "                Please let me know if you have any questions. \n",
    "                My email is {self.email} or my phone number is {self.phone}. \n",
    "                Thank you, {self.first_name} {self.last_name}.\n",
    "              \"\"\")\n",
    "\n",
    "class Development(Employee):\n",
    "    def code(self):\n",
    "        print(f\"{self.first_name} {self.last_name} is writing code.\")\n",
    "        \n",
    "        \n",
    "emp_1 = Employee('Kelly', 'Slater', 100000)\n",
    "emp_2 = Employee('Lisa', 'Andersen', 60000)\n",
    "emp_3 = Employee('Mike', \"O'Neil\")\n",
    "emp_4 = Employee('Hannah', 'Stern')\n",
    "emp_5 = Sales('Andy', 'Irons') \n",
    "print(emp_5.get_pay_stub(50000))\n",
    "print(emp_3.send_fwup_email)\n",
    "print(emp_4.send_fwup_email)\n",
    "print(emp_1.apply_raise)\n",
    "emp_6 = Development('Rob', 'Machado', 100000)\n",
    "print(emp_6.code)\n",
    "print(emp_6.apply_raise)"
   ]
  },
  {
   "cell_type": "markdown",
   "metadata": {},
   "source": [
    "Create two more classes that inherit from the Employee class. One for Sales and one for Development. Both of these classes will have the same attributes as the Employee.<br>\n",
    "- For the Sales employees, add a phone number attribute on instantiation using the super method. \n",
    "- Create a method on the Sales class that will \"Send a Follow Up Email\". It should take in a customer name and \"send\" aka print a formatted email \"Dear *customer*, Thank you for your interest in our product. Please let me know if you have any questions. My email is *email* or my phone number is *phone number*. Thanks, *full name*\"\n",
    "- Create a method on the Development class called code that will print out \"*full name* is writing code\"."
   ]
  },
  {
   "cell_type": "code",
   "execution_count": null,
   "metadata": {},
   "outputs": [],
   "source": [
    "class Sales(Employee):\n",
    "    def __init__(self, first, last, job_title, salary, email):\n",
    "        super().__init__(first, last, job_title, salary, email, phone)\n",
    "            self.phone = phone\n",
    "            \n",
    "    def send_fwup_email(self):\n",
    "        name_input = input(\"Please enter your name: \")\n",
    "        customer_name = name_input\n",
    "        print(f\"\"\"Dear {name_input}, Thank you for your interest in our product. \n",
    "                Please let me know if you have any questions. \n",
    "                My email is {self.email} or my phone number is {self.phone}. \n",
    "                Thank you, {self.first_name} {self.last_name}.\n",
    "              \"\"\")\n",
    "\n",
    "class Development(Employee):\n",
    "    def code(self):\n",
    "        print(f\"{self.first_name} {self.last_name} is writing code.\")\n"
   ]
  },
  {
   "cell_type": "markdown",
   "metadata": {},
   "source": [
    "- Create an instance of a Sales Employee with a salary of $50,000.\n",
    "- Send follow up emails to \"Mike O'Neil\" and \"Hannah Stern\"\n",
    "- Give the employee a raise and print the salary"
   ]
  },
  {
   "cell_type": "code",
   "execution_count": 3,
   "metadata": {},
   "outputs": [
    {
     "ename": "IndentationError",
     "evalue": "unexpected indent (459008193.py, line 4)",
     "output_type": "error",
     "traceback": [
      "\u001b[1;36m  Cell \u001b[1;32mIn[3], line 4\u001b[1;36m\u001b[0m\n\u001b[1;33m    print(f\"\"\"\u001b[0m\n\u001b[1;37m    ^\u001b[0m\n\u001b[1;31mIndentationError\u001b[0m\u001b[1;31m:\u001b[0m unexpected indent\n"
     ]
    }
   ],
   "source": [
    "# Create the instance\n",
    "emp_5 = Sales('Andy', 'Irons') \n",
    "print(emp_5.get_pay_stub(50000))"
   ]
  },
  {
   "cell_type": "code",
   "execution_count": 6,
   "metadata": {},
   "outputs": [
    {
     "ename": "NameError",
     "evalue": "name 'Employee' is not defined",
     "output_type": "error",
     "traceback": [
      "\u001b[1;31m---------------------------------------------------------------------------\u001b[0m",
      "\u001b[1;31mNameError\u001b[0m                                 Traceback (most recent call last)",
      "Cell \u001b[1;32mIn[6], line 2\u001b[0m\n\u001b[0;32m      1\u001b[0m \u001b[38;5;66;03m# Send follow up to Mike\u001b[39;00m\n\u001b[1;32m----> 2\u001b[0m emp_3 \u001b[38;5;241m=\u001b[39m Employee(\u001b[38;5;124m'\u001b[39m\u001b[38;5;124mMike\u001b[39m\u001b[38;5;124m'\u001b[39m, \u001b[38;5;124m\"\u001b[39m\u001b[38;5;124mO\u001b[39m\u001b[38;5;124m'\u001b[39m\u001b[38;5;124mNeil\u001b[39m\u001b[38;5;124m\"\u001b[39m)\n\u001b[0;32m      3\u001b[0m emp_4 \u001b[38;5;241m=\u001b[39m Employee(\u001b[38;5;124m'\u001b[39m\u001b[38;5;124mHannah\u001b[39m\u001b[38;5;124m'\u001b[39m, \u001b[38;5;124m'\u001b[39m\u001b[38;5;124mStern\u001b[39m\u001b[38;5;124m'\u001b[39m)\n\u001b[0;32m      5\u001b[0m \u001b[38;5;28mprint\u001b[39m(emp_3\u001b[38;5;241m.\u001b[39msend_fwup_email)\n",
      "\u001b[1;31mNameError\u001b[0m: name 'Employee' is not defined"
     ]
    }
   ],
   "source": [
    "# Send follow up to Mike\n",
    "\n",
    "emp_3 = Employee('Mike', \"O'Neil\")\n",
    "print(emp_3.send_fwup_email)"
   ]
  },
  {
   "cell_type": "code",
   "execution_count": 7,
   "metadata": {},
   "outputs": [
    {
     "ename": "NameError",
     "evalue": "name 'Employee' is not defined",
     "output_type": "error",
     "traceback": [
      "\u001b[1;31m---------------------------------------------------------------------------\u001b[0m",
      "\u001b[1;31mNameError\u001b[0m                                 Traceback (most recent call last)",
      "Cell \u001b[1;32mIn[7], line 3\u001b[0m\n\u001b[0;32m      1\u001b[0m \u001b[38;5;66;03m# Send follow up to Hannah\u001b[39;00m\n\u001b[1;32m----> 3\u001b[0m emp_4 \u001b[38;5;241m=\u001b[39m Employee(\u001b[38;5;124m'\u001b[39m\u001b[38;5;124mHannah\u001b[39m\u001b[38;5;124m'\u001b[39m, \u001b[38;5;124m'\u001b[39m\u001b[38;5;124mStern\u001b[39m\u001b[38;5;124m'\u001b[39m)\n\u001b[0;32m      4\u001b[0m \u001b[38;5;28mprint\u001b[39m(emp_4\u001b[38;5;241m.\u001b[39msend_fwup_email)\n",
      "\u001b[1;31mNameError\u001b[0m: name 'Employee' is not defined"
     ]
    }
   ],
   "source": [
    "# Send follow up to Hannah\n",
    "\n",
    "emp_4 = Employee('Hannah', 'Stern')\n",
    "print(emp_4.send_fwup_email)"
   ]
  },
  {
   "cell_type": "code",
   "execution_count": 11,
   "metadata": {},
   "outputs": [
    {
     "ename": "NameError",
     "evalue": "name 'Employee' is not defined",
     "output_type": "error",
     "traceback": [
      "\u001b[1;31m---------------------------------------------------------------------------\u001b[0m",
      "\u001b[1;31mNameError\u001b[0m                                 Traceback (most recent call last)",
      "Cell \u001b[1;32mIn[11], line 2\u001b[0m\n\u001b[0;32m      1\u001b[0m \u001b[38;5;66;03m# Give the sales employee a raise\u001b[39;00m\n\u001b[1;32m----> 2\u001b[0m emp_1 \u001b[38;5;241m=\u001b[39m Employee(\u001b[38;5;124m'\u001b[39m\u001b[38;5;124mKelly\u001b[39m\u001b[38;5;124m'\u001b[39m, \u001b[38;5;124m'\u001b[39m\u001b[38;5;124mSlater\u001b[39m\u001b[38;5;124m'\u001b[39m, \u001b[38;5;241m100000\u001b[39m)\n\u001b[0;32m      3\u001b[0m \u001b[38;5;28mprint\u001b[39m(emp_1\u001b[38;5;241m.\u001b[39mapply_raise)\n",
      "\u001b[1;31mNameError\u001b[0m: name 'Employee' is not defined"
     ]
    }
   ],
   "source": [
    "# Give the sales employee a raise\n",
    "emp_1 = Employee('Kelly', 'Slater', 150000)\n",
    "print(emp_1.apply_raise)"
   ]
  },
  {
   "cell_type": "markdown",
   "metadata": {},
   "source": [
    "- Create an instance of a Development Employee with a salary of $100,000\n",
    "- Write some code with this employee\n",
    "- Give the employee a raise and print the salary"
   ]
  },
  {
   "cell_type": "code",
   "execution_count": null,
   "metadata": {},
   "outputs": [],
   "source": [
    "# Create the instance\n",
    "emp_6 = Development('Rob', 'Machado', 100000)"
   ]
  },
  {
   "cell_type": "code",
   "execution_count": null,
   "metadata": {},
   "outputs": [],
   "source": [
    "# Write some code (call code method)\n",
    "print(emp_6.code)"
   ]
  },
  {
   "cell_type": "code",
   "execution_count": null,
   "metadata": {},
   "outputs": [],
   "source": [
    "# Give the dev employee a raise\n",
    "print(emp_6.apply_raise)"
   ]
  },
  {
   "cell_type": "markdown",
   "metadata": {},
   "source": [
    "#### Exercise 2 - Importing Modules"
   ]
  },
  {
   "cell_type": "markdown",
   "metadata": {},
   "source": [
    "In VS Code, create a module titled `geometry` and add two functions in there. One that will calculate the area of a circle given a radius. The second will find the hypotenuse of a right angle given the two sides. Import the module or the functions from the module and use it to find the answers to the below questions"
   ]
  },
  {
   "cell_type": "markdown",
   "metadata": {},
   "source": [
    "What is the area of a circle with a radius of 7cm?"
   ]
  },
  {
   "cell_type": "code",
   "execution_count": 27,
   "metadata": {},
   "outputs": [
    {
     "name": "stdout",
     "output_type": "stream",
     "text": [
      "3.14\n",
      "153.94\n"
     ]
    }
   ],
   "source": [
    "from math import pi\n",
    "\n",
    "print(round(pi, 2))\n",
    "print(circle_area(7))"
   ]
  },
  {
   "cell_type": "markdown",
   "metadata": {},
   "source": [
    "What is the hypotenuse of a right angle with sides of 3in and 4in?"
   ]
  },
  {
   "cell_type": "code",
   "execution_count": 28,
   "metadata": {},
   "outputs": [
    {
     "name": "stdout",
     "output_type": "stream",
     "text": [
      "5.0\n"
     ]
    }
   ],
   "source": [
    "from math import sqrt\n",
    "\n",
    "print(hypotenuse(3,4))"
   ]
  },
  {
   "cell_type": "code",
   "execution_count": 29,
   "metadata": {},
   "outputs": [
    {
     "name": "stdout",
     "output_type": "stream",
     "text": [
      "153.94\n"
     ]
    }
   ],
   "source": [
    "import geometry\n",
    "print(circle_area(7))\n",
    "print(hypotenuse())"
   ]
  },
  {
   "cell_type": "code",
   "execution_count": null,
   "metadata": {},
   "outputs": [],
   "source": []
  }
 ],
 "metadata": {
  "kernelspec": {
   "display_name": "Python 3 (ipykernel)",
   "language": "python",
   "name": "python3"
  },
  "language_info": {
   "codemirror_mode": {
    "name": "ipython",
    "version": 3
   },
   "file_extension": ".py",
   "mimetype": "text/x-python",
   "name": "python",
   "nbconvert_exporter": "python",
   "pygments_lexer": "ipython3",
   "version": "3.11.4"
  }
 },
 "nbformat": 4,
 "nbformat_minor": 4
}
